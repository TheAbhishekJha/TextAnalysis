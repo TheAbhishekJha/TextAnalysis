{
  "nbformat": 4,
  "nbformat_minor": 0,
  "metadata": {
    "colab": {
      "name": "Untitled1.ipynb",
      "version": "0.3.2",
      "provenance": []
    },
    "kernelspec": {
      "name": "python3",
      "display_name": "Python 3"
    }
  },
  "cells": [
    {
      "metadata": {
        "id": "45sm-SmCkxKs",
        "colab_type": "code",
        "colab": {}
      },
      "cell_type": "code",
      "source": [
        "import gensim\n",
        "import gzip"
      ],
      "execution_count": 0,
      "outputs": []
    },
    {
      "metadata": {
        "id": "yQnmahT8k4in",
        "colab_type": "code",
        "colab": {
          "base_uri": "https://localhost:8080/",
          "height": 54
        },
        "outputId": "ae75e411-d886-484b-8a8e-055af704254a"
      },
      "cell_type": "code",
      "source": [
        "data_file=\"reviews_data.txt.gz\"\n",
        "\n",
        "with gzip.open ('reviews_data.txt.gz', 'rb') as f:\n",
        "    for i,line in enumerate (f):\n",
        "        print(line)\n",
        "        break\n"
      ],
      "execution_count": 2,
      "outputs": [
        {
          "output_type": "stream",
          "text": [
            "b\"Oct 12 2009 \\tNice trendy hotel location not too bad.\\tI stayed in this hotel for one night. As this is a fairly new place some of the taxi drivers did not know where it was and/or did not want to drive there. Once I have eventually arrived at the hotel, I was very pleasantly surprised with the decor of the lobby/ground floor area. It was very stylish and modern. I found the reception's staff geeting me with 'Aloha' a bit out of place, but I guess they are briefed to say that to keep up the coroporate image.As I have a Starwood Preferred Guest member, I was given a small gift upon-check in. It was only a couple of fridge magnets in a gift box, but nevertheless a nice gesture.My room was nice and roomy, there are tea and coffee facilities in each room and you get two complimentary bottles of water plus some toiletries by 'bliss'.The location is not great. It is at the last metro stop and you then need to take a taxi, but if you are not planning on going to see the historic sites in Beijing, then you will be ok.I chose to have some breakfast in the hotel, which was really tasty and there was a good selection of dishes. There are a couple of computers to use in the communal area, as well as a pool table. There is also a small swimming pool and a gym area.I would definitely stay in this hotel again, but only if I did not plan to travel to central Beijing, as it can take a long time. The location is ok if you plan to do a lot of shopping, as there is a big shopping centre just few minutes away from the hotel and there are plenty of eating options around, including restaurants that serve a dog meat!\\t\\r\\n\"\n"
          ],
          "name": "stdout"
        }
      ]
    },
    {
      "metadata": {
        "id": "NIL4DL5korJQ",
        "colab_type": "code",
        "colab": {}
      },
      "cell_type": "code",
      "source": [
        "def read_input(input_file):\n",
        "\n",
        "    with gzip.open(input_file, 'rb') as f:\n",
        "        for i, line in enumerate(f):\n",
        "            yield gensim.utils.simple_preprocess(line)\n",
        "\n",
        "documents = list (read_input (data_file))"
      ],
      "execution_count": 0,
      "outputs": []
    },
    {
      "metadata": {
        "id": "VC5X6rQMo_hF",
        "colab_type": "code",
        "colab": {
          "base_uri": "https://localhost:8080/",
          "height": 34
        },
        "outputId": "176fcce4-adf6-4040-f396-5459637d650a"
      },
      "cell_type": "code",
      "source": [
        "model = gensim.models.Word2Vec (documents, size=150, window=10, min_count=2, workers=10)\n",
        "model.train(documents,total_examples=len(documents),epochs=10)"
      ],
      "execution_count": 4,
      "outputs": [
        {
          "output_type": "execute_result",
          "data": {
            "text/plain": [
              "(303470389, 415193550)"
            ]
          },
          "metadata": {
            "tags": []
          },
          "execution_count": 4
        }
      ]
    },
    {
      "metadata": {
        "id": "8OEcVLdLt697",
        "colab_type": "code",
        "colab": {
          "base_uri": "https://localhost:8080/",
          "height": 241
        },
        "outputId": "a360eafa-e0f9-4e1d-b7aa-10374c8543a4"
      },
      "cell_type": "code",
      "source": [
        "w1 = \"dirty\"\n",
        "model.wv.most_similar (positive=w1)"
      ],
      "execution_count": 5,
      "outputs": [
        {
          "output_type": "stream",
          "text": [
            "/usr/local/lib/python3.6/dist-packages/gensim/matutils.py:737: FutureWarning: Conversion of the second argument of issubdtype from `int` to `np.signedinteger` is deprecated. In future, it will be treated as `np.int64 == np.dtype(int).type`.\n",
            "  if np.issubdtype(vec.dtype, np.int):\n"
          ],
          "name": "stderr"
        },
        {
          "output_type": "execute_result",
          "data": {
            "text/plain": [
              "[('filthy', 0.8733611702919006),\n",
              " ('unclean', 0.7866116762161255),\n",
              " ('stained', 0.7683209180831909),\n",
              " ('dusty', 0.7660079598426819),\n",
              " ('grubby', 0.7584689259529114),\n",
              " ('smelly', 0.7436296939849854),\n",
              " ('dingy', 0.7409955263137817),\n",
              " ('disgusting', 0.7320381999015808),\n",
              " ('soiled', 0.7261397242546082),\n",
              " ('gross', 0.7164273262023926)]"
            ]
          },
          "metadata": {
            "tags": []
          },
          "execution_count": 5
        }
      ]
    },
    {
      "metadata": {
        "id": "vu-aHkI5uWcv",
        "colab_type": "code",
        "colab": {
          "base_uri": "https://localhost:8080/",
          "height": 241
        },
        "outputId": "69609633-0b5b-4edb-cb28-a1f14bfce643"
      },
      "cell_type": "code",
      "source": [
        "w2 = \"male\"\n",
        "model.wv.most_similar (positive=w2)"
      ],
      "execution_count": 10,
      "outputs": [
        {
          "output_type": "stream",
          "text": [
            "/usr/local/lib/python3.6/dist-packages/gensim/matutils.py:737: FutureWarning: Conversion of the second argument of issubdtype from `int` to `np.signedinteger` is deprecated. In future, it will be treated as `np.int64 == np.dtype(int).type`.\n",
            "  if np.issubdtype(vec.dtype, np.int):\n"
          ],
          "name": "stderr"
        },
        {
          "output_type": "execute_result",
          "data": {
            "text/plain": [
              "[('female', 0.7357085347175598),\n",
              " ('blonde', 0.5825227499008179),\n",
              " ('young', 0.5730308890342712),\n",
              " ('women', 0.569678783416748),\n",
              " ('ignorant', 0.569196343421936),\n",
              " ('men', 0.5666659474372864),\n",
              " ('hispanic', 0.561308741569519),\n",
              " ('lone', 0.5609698295593262),\n",
              " ('profiling', 0.5520301461219788),\n",
              " ('woman', 0.5480250716209412)]"
            ]
          },
          "metadata": {
            "tags": []
          },
          "execution_count": 10
        }
      ]
    },
    {
      "metadata": {
        "id": "3I945mSXv9Xs",
        "colab_type": "code",
        "colab": {}
      },
      "cell_type": "code",
      "source": [
        "s1 = 'the first sentence'\n",
        "s2 = 'the second text'\n",
        "distance = model.wmdistance(s1,s2)\n",
        "print ('distance = %.3f' % distance)"
      ],
      "execution_count": 0,
      "outputs": []
    }
  ]
}